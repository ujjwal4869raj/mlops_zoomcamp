{
 "cells": [
  {
   "cell_type": "markdown",
   "id": "7773bf61",
   "metadata": {},
   "source": [
    "#Experiment Tracking"
   ]
  },
  {
   "cell_type": "code",
   "execution_count": 2,
   "id": "6b39c518",
   "metadata": {},
   "outputs": [
    {
     "name": "stdout",
     "output_type": "stream",
     "text": [
      "mlflow, version 2.14.2\n"
     ]
    }
   ],
   "source": [
    "!mlflow --version"
   ]
  },
  {
   "cell_type": "markdown",
   "id": "a096cbf0-8e9b-4417-a108-140741ee9497",
   "metadata": {},
   "source": [
    "Q1. What's the version that you have?\n",
    "\n",
    "=> mlflow, version 2.14.2"
   ]
  },
  {
   "cell_type": "code",
   "execution_count": 3,
   "id": "c22846d9-492a-44b8-8ad3-6623b36c4098",
   "metadata": {},
   "outputs": [],
   "source": [
    "import pandas as pd"
   ]
  },
  {
   "cell_type": "code",
   "execution_count": 4,
   "id": "6beb61c3-ea32-45fc-b25f-f2daf82ed756",
   "metadata": {},
   "outputs": [],
   "source": [
    "from sklearn.feature_extraction import DictVectorizer\n",
    "from sklearn.linear_model import LinearRegression\n",
    "from sklearn.linear_model import Lasso\n",
    "\n",
    "from sklearn.metrics import mean_squared_error"
   ]
  },
  {
   "cell_type": "code",
   "execution_count": 5,
   "id": "7544bfda-5e93-4139-a0e7-116de5f6a614",
   "metadata": {},
   "outputs": [],
   "source": [
    "from preprocess_data import run_data_prep"
   ]
  },
  {
   "cell_type": "code",
   "execution_count": 6,
   "id": "88ff88d9-7816-43c4-8bb8-b36e90c9a231",
   "metadata": {},
   "outputs": [],
   "source": [
    "!python preprocess_data.py --raw_data_path \"./data/\" --dest_path ./output"
   ]
  },
  {
   "cell_type": "markdown",
   "id": "7a2372a2-f2d0-4506-9de5-48422efb1f0b",
   "metadata": {},
   "source": [
    "Q2. How many files were saved to OUTPUT_FOLDER?\n",
    "\n",
    "=> 4"
   ]
  },
  {
   "cell_type": "code",
   "execution_count": null,
   "id": "e3115243",
   "metadata": {},
   "outputs": [],
   "source": [
    "from train import run_train"
   ]
  },
  {
   "cell_type": "code",
   "execution_count": null,
   "id": "a243a0f6",
   "metadata": {},
   "outputs": [],
   "source": [
    "import mlflow"
   ]
  },
  {
   "cell_type": "code",
   "execution_count": 8,
   "id": "6cc9043d-a78d-4edd-bb31-07872a0bbd8f",
   "metadata": {},
   "outputs": [
    {
     "name": "stdout",
     "output_type": "stream",
     "text": [
      "tracking URI: 'file:///workspaces/mlops_zoomcamp/02-experiment-tracking/homework/mlruns'\n"
     ]
    }
   ],
   "source": [
    "print(f\"tracking URI: '{mlflow.get_tracking_uri()}'\")"
   ]
  },
  {
   "cell_type": "code",
   "execution_count": 9,
   "id": "6a27f04d",
   "metadata": {},
   "outputs": [
    {
     "data": {
      "text/plain": [
       "[<Experiment: artifact_location='file:///workspaces/mlops_zoomcamp/02-experiment-tracking/homework/mlruns/0', creation_time=1721045252163, experiment_id='0', last_update_time=1721045252163, lifecycle_stage='active', name='Default', tags={}>]"
      ]
     },
     "execution_count": 9,
     "metadata": {},
     "output_type": "execute_result"
    }
   ],
   "source": [
    "mlflow.search_experiments()"
   ]
  },
  {
   "cell_type": "code",
   "execution_count": 13,
   "id": "64eb2e13",
   "metadata": {},
   "outputs": [
    {
     "ename": "NameError",
     "evalue": "name 'rmse' is not defined",
     "output_type": "error",
     "traceback": [
      "\u001b[0;31m---------------------------------------------------------------------------\u001b[0m",
      "\u001b[0;31mNameError\u001b[0m                                 Traceback (most recent call last)",
      "Cell \u001b[0;32mIn[13], line 1\u001b[0m\n\u001b[0;32m----> 1\u001b[0m \u001b[38;5;28mprint\u001b[39m(\u001b[43mrmse\u001b[49m)\n",
      "\u001b[0;31mNameError\u001b[0m: name 'rmse' is not defined"
     ]
    }
   ],
   "source": [
    "mlflow.set_experiment(\"my-experiment-1\")"
   ]
  },
  {
   "cell_type": "code",
   "execution_count": null,
   "id": "7710eea1",
   "metadata": {},
   "outputs": [],
   "source": []
  }
 ],
 "metadata": {
  "kernelspec": {
   "display_name": "Python 3 (ipykernel)",
   "language": "python",
   "name": "python3"
  },
  "language_info": {
   "codemirror_mode": {
    "name": "ipython",
    "version": 3
   },
   "file_extension": ".py",
   "mimetype": "text/x-python",
   "name": "python",
   "nbconvert_exporter": "python",
   "pygments_lexer": "ipython3",
   "version": "3.9.19"
  }
 },
 "nbformat": 4,
 "nbformat_minor": 5
}
